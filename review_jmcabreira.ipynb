{
 "cells": [
  {
   "cell_type": "code",
   "execution_count": 4,
   "metadata": {},
   "outputs": [],
   "source": [
    "import spotipy\n",
    "from spotipy.oauth2 import SpotifyClientCredentials #to access to authorized spotify data\n",
    "\n",
    "import pandas as pd\n",
    "import numpy as np\n",
    "import config"
   ]
  },
  {
   "cell_type": "code",
   "execution_count": 6,
   "metadata": {},
   "outputs": [],
   "source": [
    "client_id = config.client_id\n",
    "client_secret = config.secret\n",
    "\n",
    "client_credentials_manager = SpotifyClientCredentials(client_id, client_secret)\n",
    "sp = spotipy.Spotify(client_credentials_manager = client_credentials_manager)"
   ]
  },
  {
   "cell_type": "markdown",
   "metadata": {},
   "source": [
    "Everything below here is from jmcabria's github --- using to understnad glitches in draft 2 code"
   ]
  },
  {
   "cell_type": "code",
   "execution_count": 7,
   "metadata": {},
   "outputs": [
    {
     "data": {
      "text/plain": [
       "[{'external_urls': {'spotify': 'https://open.spotify.com/artist/0du5cEVh5yTK9QJze8zA0C'},\n",
       "  'href': 'https://api.spotify.com/v1/artists/0du5cEVh5yTK9QJze8zA0C',\n",
       "  'id': '0du5cEVh5yTK9QJze8zA0C',\n",
       "  'name': 'Bruno Mars',\n",
       "  'type': 'artist',\n",
       "  'uri': 'spotify:artist:0du5cEVh5yTK9QJze8zA0C'}]"
      ]
     },
     "execution_count": 7,
     "metadata": {},
     "output_type": "execute_result"
    }
   ],
   "source": [
    "name = 'Bruno Mars'\n",
    "result = sp.search(name)\n",
    "result['tracks']['items'][0]['artists']"
   ]
  },
  {
   "cell_type": "code",
   "execution_count": 11,
   "metadata": {},
   "outputs": [],
   "source": [
    "#extract artist URI\n",
    "artist_uri = result['tracks']['items'][0]['artists'][0]['uri']"
   ]
  },
  {
   "cell_type": "code",
   "execution_count": 12,
   "metadata": {},
   "outputs": [
    {
     "data": {
      "text/plain": [
       "'spotify:artist:0du5cEVh5yTK9QJze8zA0C'"
      ]
     },
     "execution_count": 12,
     "metadata": {},
     "output_type": "execute_result"
    }
   ],
   "source": [
    "artist_uri"
   ]
  },
  {
   "cell_type": "code",
   "execution_count": 13,
   "metadata": {},
   "outputs": [],
   "source": [
    "#pull artist albums\n",
    "sp_albums = sp.artist_albums(artist_uri, album_type = 'album')\n",
    "#store items into separate list\n",
    "album_names = []\n",
    "album_uris = []\n",
    "for i in range(len(sp_albums['items'])):\n",
    "    album_names.append(sp_albums['items'][i]['name'])\n",
    "    album_uris.append(sp_albums['items'][i]['uri'])"
   ]
  },
  {
   "cell_type": "code",
   "execution_count": 14,
   "metadata": {},
   "outputs": [],
   "source": [
    "def albumSongs(uri):\n",
    "    album = uri #assign album uri to a name\n",
    "    spotify_albums[album] = {} #create dic for that specified album\n",
    "    #create key values of empty lists inside nested dic for the album\n",
    "    spotify_albums[album]['album'] = [] #create empty list\n",
    "    spotify_albums[album]['track_number'] = []\n",
    "    spotify_albums[album]['id'] = []\n",
    "    spotify_albums[album]['name'] = []\n",
    "    spotify_albums[album]['uri'] = []\n",
    "    tracks = sp.album_tracks(album) #pull data on album tracks\n",
    "    for n in range(len(tracks['items'])): #pull data on album tracks\n",
    "        spotify_albums[album]['album'].append(album_names[album_count]) #append album_name track via album_count\n",
    "        spotify_albums[album]['track_number'].append(tracks['items'][n]['track_number'])\n",
    "        spotify_albums[album]['id'].append(tracks['items'][n]['id'])\n",
    "        spotify_albums[album]['name'].append(tracks['items'][n]['name'])\n",
    "        spotify_albums[album]['uri'].append(tracks['items'][n]['uri'])"
   ]
  },
  {
   "cell_type": "code",
   "execution_count": 15,
   "metadata": {},
   "outputs": [
    {
     "data": {
      "text/plain": [
       "['spotify:album:4VZ7jhV0wHpoNPCB7Vmiml',\n",
       " 'spotify:album:1YgekJJTEueWDaMr7BYqPk',\n",
       " 'spotify:album:4PgleR09JVnm3zY1fW3XBA',\n",
       " 'spotify:album:4w6KUt7eyD4paTTNctylCS',\n",
       " 'spotify:album:7KBjLhk3IM27k3ry4vBk3i',\n",
       " 'spotify:album:58ufpQsJ1DS5kq4hhzQDiI',\n",
       " 'spotify:album:4xWulj18AGahlyuZPulaGe',\n",
       " 'spotify:album:6J84szYCnMfzEcvIcfWMFL',\n",
       " 'spotify:album:1uyf3l2d4XYwiEqAb7t7fX']"
      ]
     },
     "execution_count": 15,
     "metadata": {},
     "output_type": "execute_result"
    }
   ],
   "source": [
    "album_uris"
   ]
  },
  {
   "cell_type": "code",
   "execution_count": 19,
   "metadata": {},
   "outputs": [
    {
     "name": "stdout",
     "output_type": "stream",
     "text": [
      "album An Evening With Silk Sonic songs have been added to spotify_albums dictionary\n",
      "album An Evening With Silk Sonic songs have been added to spotify_albums dictionary\n",
      "album 24K Magic songs have been added to spotify_albums dictionary\n",
      "album Unorthodox Jukebox (Deluxe Edition) songs have been added to spotify_albums dictionary\n",
      "album Unorthodox Jukebox songs have been added to spotify_albums dictionary\n",
      "album Unorthodox Jukebox songs have been added to spotify_albums dictionary\n",
      "album Unorthodox Jukebox songs have been added to spotify_albums dictionary\n",
      "album Doo-Wops & Hooligans songs have been added to spotify_albums dictionary\n",
      "album Doo-Wops & Hooligans songs have been added to spotify_albums dictionary\n"
     ]
    }
   ],
   "source": [
    "spotify_albums = {}\n",
    "album_count = 0\n",
    "for i in album_uris: #each album\n",
    "    albumSongs(i)\n",
    "    print('album ' + str(album_names[album_count]) + ' songs have been added to spotify_albums dictionary')\n",
    "    album_count +=1"
   ]
  },
  {
   "cell_type": "code",
   "execution_count": null,
   "metadata": {},
   "outputs": [],
   "source": []
  }
 ],
 "metadata": {
  "kernelspec": {
   "display_name": "Python 3",
   "language": "python",
   "name": "python3"
  },
  "language_info": {
   "codemirror_mode": {
    "name": "ipython",
    "version": 3
   },
   "file_extension": ".py",
   "mimetype": "text/x-python",
   "name": "python",
   "nbconvert_exporter": "python",
   "pygments_lexer": "ipython3",
   "version": "3.8.5"
  }
 },
 "nbformat": 4,
 "nbformat_minor": 4
}
